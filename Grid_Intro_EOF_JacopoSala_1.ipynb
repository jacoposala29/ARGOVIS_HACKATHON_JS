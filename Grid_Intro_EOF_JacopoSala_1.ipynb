{
 "cells": [
  {
   "cell_type": "markdown",
   "id": "2934f2ca",
   "metadata": {},
   "source": [
    "# Intro to Argovis' Grid API - EOF analysis example - Jacopo Sala"
   ]
  },
  {
   "cell_type": "markdown",
   "id": "98590efb",
   "metadata": {},
   "source": [
    "Argovis offers a growing list of gridded products, indexed and downloadable through its API. In this notebook, we'll illustrate some basic operations and handling of this data."
   ]
  },
  {
   "cell_type": "markdown",
   "id": "747baa0e",
   "metadata": {},
   "source": [
    "## Setup\n",
    "\n",
    "In addition to importing a few python packages, make sure to plug in your Argovis API key for `API_KEY` in the next cell. If you don't have a free Argovis API key yet, get one at https://argovis-keygen.colorado.edu/."
   ]
  },
  {
   "cell_type": "code",
   "execution_count": 13,
   "id": "b3ee0689",
   "metadata": {},
   "outputs": [],
   "source": [
    "import math\n",
    "import numpy as np\n",
    "from datetime import datetime, timedelta\n",
    "import scipy.io\n",
    "import xarray as xr\n",
    "API_KEY=''\n",
    "\n",
    "import pandas as pd\n",
    "import numpy.matlib \n",
    "import matplotlib.pyplot as plt\n",
    "from matplotlib.colors import LogNorm\n",
    "import requests\n",
    "from calendar import monthrange\n",
    "import pickle as pkl\n",
    "import sys\n",
    "import statistics\n",
    "import cartopy.crs as ccrs\n",
    "import numpy.linalg as LA\n",
    "import timeit\n",
    "import scipy.stats as stats # imports stats functions https://docs.scipy.org/doc/scipy/reference/stats.html  \n",
    "from scipy import signal\n",
    "from matplotlib.gridspec import GridSpec\n"
   ]
  },
  {
   "cell_type": "markdown",
   "id": "eee4dd23",
   "metadata": {},
   "source": [
    "## Downloading Gridded Data\n",
    "\n",
    "Argovis offers gridded data at its `/grids` endpoint. Available query string parameters are:\n",
    "\n",
    " - `gridName` (mandatory, one of rgTempTotal, rgPsalTotal, ohc): name of gridded product to search.\n",
    " - `startDate` (mandatory, format YYYY-MM-DDTHH:MM:SSZ at GMT0): beginning of time window to query.\n",
    " - `endDate` (mandatory, format YYYY-MM-DDTHH:MM:SSZ at GMT0): end of time window to query.\n",
    " - `polygon` (mandatory, format [[lon0,lat0],[lon1,lat1],...,[lonN,latN],[lon0,lat0]]): geographical region to query.\n",
    " - `presRange` (optional, format minimum_pressure,maximum_pressure): pressure window to filter for.\n",
    "\n",
    "As noted, `gridName`, `startDate`, `endDate` and `polygon` are all required for downloading gridded data, but we can get just the metadata record that describes some high-level information about each grid by providing only the `gridName` parameter:\n"
   ]
  },
  {
   "cell_type": "code",
   "execution_count": 14,
   "id": "3de00424",
   "metadata": {},
   "outputs": [
    {
     "name": "stdout",
     "output_type": "stream",
     "text": [
      "{'_id': 'rgTempTotal', 'units': 'degree celcius (ITS-90)', 'levels': [2.5, 10, 20, 30, 40, 50, 60, 70, 80, 90, 100, 110, 120, 130, 140, 150, 160, 170, 182.5, 200, 220, 240, 260, 280, 300, 320, 340, 360, 380, 400, 420, 440, 462.5, 500, 550, 600, 650, 700, 750, 800, 850, 900, 950, 1000, 1050, 1100, 1150, 1200, 1250, 1300, 1350, 1412.5, 1500, 1600, 1700, 1800, 1900, 1975], 'date_added': '2022-04-27T23:07:27.943Z', 'lonrange': [-179.5, 179.5], 'latrange': [-64.5, 79.5], 'timerange': ['2004-01-15T00:00:00.000Z', '2018-12-15T00:00:00.000Z'], 'loncell': 1, 'latcell': 1}\n"
     ]
    }
   ],
   "source": [
    "params = {\n",
    "  \"gridName\": 'rgTempTotal',\n",
    "}\n",
    "\n",
    "r = requests.get('https://argovis-api.colorado.edu/grids', params=params, headers={'x-argokey': API_KEY})\n",
    "print(r.json())\n"
   ]
  },
  {
   "cell_type": "markdown",
   "id": "ec7e5a71",
   "metadata": {},
   "source": [
    "We see information about the Roemmich-Gilson Argo climatology, like what pressure levels are present, what the minimum and maximum of latitude, longitude and time is in the grid, and soforth.\n",
    "\n",
    "Let's try a simple request to download a piece of data from this climatology, a 10 degree box over the North Atlantic from the first quarter of 2012:"
   ]
  },
  {
   "cell_type": "code",
   "execution_count": 16,
   "id": "0ac1c421",
   "metadata": {},
   "outputs": [],
   "source": [
    "params = {\n",
    "  \"gridName\": 'ohc',\n",
    "  \"startDate\": '2010-01-01T00:00:00Z',\n",
    "  \"endDate\": '2019-01-01T00:00:00Z',\n",
    "#   \"polygon\": '[[-170, -5], [-170, 5], [-160, 5], [-160, -5], [-170, -5]]'\n",
    "  \"polygon\": '[[130, -10], [130, 10], [-80, 10], [-80, -10], [130, -10]]'\n",
    "#   \"polygon\": '[[-170, -10], [-170, 10], [170, 10], [170, -10], [-170, -10]]'\n",
    "}\n",
    "\n",
    "# [[lonmin,latmin],[lonmin,latmax],[lonmax,latmax],[lonmax,latmin],[lonmin,latmin]]\n",
    "\n",
    "r = requests.get('https://argovis-api.colorado.edu/grids', params=params, headers={'x-argokey': API_KEY})\n",
    "rgdata = r.json()"
   ]
  },
  {
   "cell_type": "code",
   "execution_count": 4,
   "id": "195fd7b1",
   "metadata": {},
   "outputs": [],
   "source": [
    "# params = {\n",
    "#   \"gridName\": 'rgTempTotal',\n",
    "#   \"startDate\": '2012-01-01T00:00:00Z',\n",
    "#   \"endDate\": '2013-01-01T00:00:00Z',\n",
    "#   \"polygon\": '[[-66.621094,42.163403],[-71.367188,40.580585],[-74.003906,37.439974],[-75.058594,35.029996],[-79.453125,32.249974],[-80.15625,29.993002],[-78.75,23.725012],[-73.828125,21.289374],[-70.3125,20.797201],[-67.5,19.47695],[-64.160156,19.47695],[-66.621094,42.163403]]'\n",
    "# }\n",
    "\n",
    "# r = requests.get('https://argovis-api.colorado.edu/grids', params=params, headers={'x-argokey': API_KEY})\n",
    "# rgdata = r.json()"
   ]
  },
  {
   "cell_type": "markdown",
   "id": "e19e2aad",
   "metadata": {},
   "source": [
    "Like most Argovis API requests, you get a list of documents matching your query. Let's have a look at the first record in what the API returned to us:"
   ]
  },
  {
   "cell_type": "markdown",
   "id": "019fc047",
   "metadata": {},
   "source": [
    "The first object in a request to `/grids` is always the appropriate *metadata record* for the grid, the same as what you got from `/grids?gridName=rgTempTotal` above. We automatically include it at the front of the full data requests as it is necessary for interpreting that data, as we'll see immediately below.\n",
    "\n",
    "All the records returned by `/grids` after the first specify the actual data we wanted; let's have a look at one of them:"
   ]
  },
  {
   "cell_type": "markdown",
   "id": "a8441a12",
   "metadata": {},
   "source": [
    "By default, Argovis returns gridded data in a *profile-like* structure: this record, located in space by its `g` key (for geolocation) and time by its `t` key, contains the grid points for all corresponding depths in its `d` (for data) key. To interpret the list of numbers, compare it entry-by-entry to the `levels` key in the metadata record; for example, the two records printed above indicate that the temperature at these coordinates and 10 dbar depth is 25.118999."
   ]
  },
  {
   "cell_type": "markdown",
   "id": "30540625",
   "metadata": {},
   "source": [
    "## Ingestion by xarray\n",
    "\n",
    "Xarray is a familiar pythonic data structure; we can transform a raw API response to an xarray with a helper similar to the following."
   ]
  },
  {
   "cell_type": "code",
   "execution_count": 5,
   "id": "7b95df4e",
   "metadata": {},
   "outputs": [],
   "source": [
    "def xargrid(grid):\n",
    "    # given the json response <grid> of a request to /grids,\n",
    "    # return an xarray object with coordinates time, lat, lon, depth, and measurement value.\n",
    "    \n",
    "    lat = []\n",
    "    lon = []\n",
    "    time = []\n",
    "    pres = []\n",
    "    meas = []\n",
    "    for p in grid[1:]:\n",
    "        for i, e in enumerate(p['d']):\n",
    "            if p['g']['coordinates'][0]<0:\n",
    "                lon.append(p['g']['coordinates'][0]+360)\n",
    "            else:\n",
    "                lon.append(p['g']['coordinates'][0])\n",
    "            lat.append(p['g']['coordinates'][1])\n",
    "            # convert a string to a date (zeros to check at the end of date)\n",
    "            time.append(datetime.strptime(p['t'], '%Y-%m-%dT%H:%M:%S.%fZ'))\n",
    "            meas.append(p['d'][i])\n",
    "            pres.append(grid[0]['levels'][i])\n",
    "            \n",
    "    df = pd.DataFrame({\"latitude\": lat, \n",
    "                           \"longitude\": lon, \n",
    "                           \"time\": time, \n",
    "                           \"pressure\": pres, \n",
    "                           \"measurement\": meas}).set_index([\"latitude\",\"longitude\",\"time\",\"pressure\"])\n",
    "    return df.to_xarray()\n",
    "    \n",
    "ds0 = xargrid(rgdata)"
   ]
  },
  {
   "cell_type": "code",
   "execution_count": 6,
   "id": "bebffe1f",
   "metadata": {},
   "outputs": [],
   "source": [
    "# print('latitudes:',ds0['latitude'].data)\n",
    "# print('longitudes:',ds0['longitude'].data)\n",
    "# print('times:',ds0['time'].data)\n",
    "# print('pressures:',ds0['pressure'].data)"
   ]
  },
  {
   "cell_type": "code",
   "execution_count": 7,
   "id": "5378175d",
   "metadata": {},
   "outputs": [],
   "source": [
    "# Cropped version of the ds\n",
    "min_lon = 130\n",
    "min_lat = -10\n",
    "max_lon = 280\n",
    "max_lat = 10\n",
    "mask_lon = (ds0.longitude >= min_lon) & (ds0.longitude <= max_lon)\n",
    "mask_lat = (ds0.latitude >= min_lat) & (ds0.latitude <= max_lat)\n",
    "ds = ds0.where(mask_lon & mask_lat, drop=True)\n",
    "# cropped_ds"
   ]
  },
  {
   "cell_type": "markdown",
   "id": "53bf7231",
   "metadata": {},
   "source": [
    "Now we can do all the usual xarray operations; lets see what the ranges of our coordinate variables are:"
   ]
  },
  {
   "cell_type": "markdown",
   "id": "4863c4cd",
   "metadata": {},
   "source": [
    "We can easily select a slice of this array at constant pressure and time, to produce a possibly more conventional, map-like grid representation, and plot it with xarray's built in plots:"
   ]
  },
  {
   "cell_type": "code",
   "execution_count": 8,
   "id": "7ca34652",
   "metadata": {},
   "outputs": [
    {
     "data": {
      "text/plain": [
       "<matplotlib.collections.QuadMesh at 0x7fe40fca6a00>"
      ]
     },
     "execution_count": 8,
     "metadata": {},
     "output_type": "execute_result"
    },
    {
     "data": {
      "image/png": "[encoded data removed]",
      "text/plain": [
       "<Figure size 432x288 with 2 Axes>"
      ]
     },
     "metadata": {
      "needs_background": "light"
     },
     "output_type": "display_data"
    }
   ],
   "source": [
    "# Cropped version\n",
    "gridmap = ds.loc[{\"time\":'2012-01-31T00:00:00.000Z'}] #, \"pressure\":2.5}]\n",
    "gridmap['measurement'].plot()"
   ]
  },
  {
   "cell_type": "code",
   "execution_count": 9,
   "id": "c3352fd3",
   "metadata": {},
   "outputs": [
    {
     "data": {
      "text/plain": [
       "<matplotlib.collections.QuadMesh at 0x7fe3f0c9e040>"
      ]
     },
     "execution_count": 9,
     "metadata": {},
     "output_type": "execute_result"
    },
    {
     "data": {
      "image/png": "[encoded data removed]",
      "text/plain": [
       "<Figure size 432x288 with 2 Axes>"
      ]
     },
     "metadata": {
      "needs_background": "light"
     },
     "output_type": "display_data"
    }
   ],
   "source": [
    "# Original version \n",
    "gridmap = ds0.loc[{\"time\":'2012-01-31T00:00:00.000Z'}] #, \"pressure\":2.5}]\n",
    "gridmap['measurement'].plot()"
   ]
  },
  {
   "cell_type": "markdown",
   "id": "abb6e373",
   "metadata": {},
   "source": [
    "## Area-Weighted Means over a longitude/latitude region\n",
    "\n",
    "A common operation when considering gridded data is to weight a mean by area of grid cells, which changes with latitude. A helper to do this with Argovis grid data could look like the following."
   ]
  },
  {
   "cell_type": "code",
   "execution_count": null,
   "id": "7b622728",
   "metadata": {},
   "outputs": [],
   "source": [
    "def areaweighted_region_mean(dxr):\n",
    "    # given an xarray dataset <grid> for a given depth and time,\n",
    "    # calculate the mean of the gridded data variable, weighted by grid cell area\n",
    "    weights = np.cos(np.deg2rad(dxr.latitude))\n",
    "    weights.name = \"weights\"\n",
    "    dxr_weighted = dxr.weighted(weights)\n",
    "    \n",
    "    return dxr_weighted.mean((\"longitude\", \"latitude\"))"
   ]
  },
  {
   "cell_type": "code",
   "execution_count": null,
   "id": "6f284ad4",
   "metadata": {},
   "outputs": [],
   "source": [
    "dxr_aw = areaweighted_region_mean(dxr=ds)\n",
    "print(dxr_aw.loc[{\"time\":'2012-01-31T00:00:00.000Z'}])#, \"pressure\":2.5}])\n",
    "dxr_aw"
   ]
  },
  {
   "cell_type": "code",
   "execution_count": null,
   "id": "07bc91ed",
   "metadata": {},
   "outputs": [],
   "source": [
    "# Time series plot \n",
    "dxr_aw['measurement'].plot()"
   ]
  },
  {
   "cell_type": "code",
   "execution_count": null,
   "id": "2e0653f1",
   "metadata": {},
   "outputs": [],
   "source": [
    "OHC_anom.plot()"
   ]
  },
  {
   "cell_type": "code",
   "execution_count": null,
   "id": "6d773e5d",
   "metadata": {},
   "outputs": [],
   "source": [
    "OHC_anom = dxr_aw['measurement'] - np.mean(dxr_aw['measurement']) \n",
    "\n"
   ]
  },
  {
   "cell_type": "code",
   "execution_count": 10,
   "id": "98ffd002",
   "metadata": {},
   "outputs": [],
   "source": [
    "# El Nino 3.4 index region\n",
    "lon_min = 190\n",
    "lon_max = 240\n",
    "lat_min = -5\n",
    "lat_max = 5\n",
    "\n",
    "mask_lon = (ds0.longitude >= lon_min) & (ds0.longitude <= lon_max)\n",
    "mask_lat = (ds0.latitude >= lat_min) & (ds0.latitude <= lat_max)\n",
    "\n",
    "nino34 = ds0.where(mask_lon & mask_lat, drop=True)"
   ]
  },
  {
   "cell_type": "code",
   "execution_count": 12,
   "id": "7a583ebf",
   "metadata": {},
   "outputs": [
    {
     "data": {
      "text/plain": [
       "<matplotlib.collections.QuadMesh at 0x7fe3f21178b0>"
      ]
     },
     "execution_count": 12,
     "metadata": {},
     "output_type": "execute_result"
    },
    {
     "data": {
      "image/png": "[encoded data removed]",
      "text/plain": [
       "<Figure size 432x288 with 2 Axes>"
      ]
     },
     "metadata": {
      "needs_background": "light"
     },
     "output_type": "display_data"
    }
   ],
   "source": [
    "gridmap = nino34.loc[{\"time\":'2012-01-31T00:00:00.000Z'}]\n",
    "gridmap['measurement'].plot()"
   ]
  },
  {
   "cell_type": "code",
   "execution_count": null,
   "id": "489279fb",
   "metadata": {},
   "outputs": [],
   "source": []
  },
  {
   "cell_type": "code",
   "execution_count": null,
   "id": "133514e4",
   "metadata": {},
   "outputs": [],
   "source": []
  },
  {
   "cell_type": "code",
   "execution_count": null,
   "id": "3853631a",
   "metadata": {},
   "outputs": [],
   "source": []
  },
  {
   "cell_type": "code",
   "execution_count": null,
   "id": "696d9a43",
   "metadata": {},
   "outputs": [],
   "source": []
  },
  {
   "cell_type": "code",
   "execution_count": null,
   "id": "f486d178",
   "metadata": {},
   "outputs": [],
   "source": []
  },
  {
   "cell_type": "code",
   "execution_count": null,
   "id": "bf9d7a8c",
   "metadata": {},
   "outputs": [],
   "source": []
  },
  {
   "cell_type": "code",
   "execution_count": null,
   "id": "ddccf166",
   "metadata": {},
   "outputs": [],
   "source": []
  },
  {
   "cell_type": "code",
   "execution_count": null,
   "id": "3e2dab9c",
   "metadata": {},
   "outputs": [],
   "source": []
  },
  {
   "cell_type": "code",
   "execution_count": null,
   "id": "050299eb",
   "metadata": {},
   "outputs": [],
   "source": []
  },
  {
   "cell_type": "code",
   "execution_count": null,
   "id": "133b650f",
   "metadata": {},
   "outputs": [],
   "source": []
  },
  {
   "cell_type": "code",
   "execution_count": null,
   "id": "47654db1",
   "metadata": {},
   "outputs": [],
   "source": []
  },
  {
   "cell_type": "markdown",
   "id": "eb344352",
   "metadata": {},
   "source": [
    "## Prepare the data for the EOF analysis"
   ]
  },
  {
   "cell_type": "code",
   "execution_count": null,
   "id": "8e10336d",
   "metadata": {},
   "outputs": [],
   "source": [
    "# Swap dimensions to match what the rest of the code has been built for\n",
    "measurement = np.swapaxes(ds.measurement.values,0,2)\n",
    "measurement = np.swapaxes(measurement,1,2)"
   ]
  },
  {
   "cell_type": "code",
   "execution_count": null,
   "id": "d051459e",
   "metadata": {},
   "outputs": [],
   "source": [
    "# Reshape as a 3D array\n",
    "measurement_3d = measurement.reshape(measurement.shape[0],measurement.shape[1],measurement.shape[2])"
   ]
  },
  {
   "cell_type": "code",
   "execution_count": null,
   "id": "f53cfb02",
   "metadata": {},
   "outputs": [],
   "source": [
    "# Convert data into a xarray Dataarray\n",
    "d_GCOS_temp_zint = xr.DataArray(\n",
    "         data=measurement_3d,\n",
    "        dims=[\"time\", \"lat\", \"lon\", ],\n",
    "        coords=dict(\n",
    "            time=ds.time.values,\n",
    "            lat=([\"lat\"], ds.latitude.values),\n",
    "            lon=([\"lon\"], ds.longitude.values),\n",
    "        ),\n",
    "    attrs=dict(\n",
    "        description=\"Ocean heat content.\",\n",
    "        units=\"J/m2\",\n",
    "    ),\n",
    "    )\n",
    "\n",
    "lat = d_GCOS_temp_zint['lat']\n",
    "lon = d_GCOS_temp_zint['lon']\n",
    "time = ds.time.values\n",
    "\n",
    "print(f'd_GCOS_temp_zint: {type(d_GCOS_temp_zint), d_GCOS_temp_zint.shape}')\n",
    "print(f'lat: {type(lat), lat.shape}')\n",
    "print(f'lon: {type(lon), lon.shape}')\n",
    "print(f'type of data - should be xarray DataArray: {type(d_GCOS_temp_zint)}') ## check that the data is Xarray"
   ]
  },
  {
   "cell_type": "code",
   "execution_count": null,
   "id": "6f206618",
   "metadata": {},
   "outputs": [],
   "source": [
    "#Shift the dataset by 180 degrees to get indices for Pacific basin to be monotonically increasing\n",
    "dsshift=ds.roll(longitude=180,roll_coords=True)\n",
    "#dsshift2=dsshift \n",
    "shiftedlon=dsshift['longitude'].values\n",
    "shiftedlon[dsshift['longitude'].values<0]=dsshift['longitude'].values[dsshift['longitude'].values<0]+360"
   ]
  },
  {
   "cell_type": "code",
   "execution_count": null,
   "id": "52103312",
   "metadata": {},
   "outputs": [],
   "source": []
  },
  {
   "cell_type": "code",
   "execution_count": null,
   "id": "e0c152a7",
   "metadata": {},
   "outputs": [],
   "source": []
  },
  {
   "cell_type": "code",
   "execution_count": null,
   "id": "67ab8192",
   "metadata": {},
   "outputs": [],
   "source": [
    "## Cosine weighting following Hannachi et al. 2007 page 1123\n",
    "\n",
    "d_GCOS_temp_zintwgt=d_GCOS_temp_zint*np.sqrt(np.cos(lat*np.pi/180))\n",
    "print(f'shape of d_GCOS_temp_zintwgt: {np.shape(d_GCOS_temp_zintwgt)}')\n"
   ]
  },
  {
   "cell_type": "code",
   "execution_count": null,
   "id": "31aab766",
   "metadata": {},
   "outputs": [],
   "source": [
    "# Take anomalies - subtract the mean (keep by default)\n",
    "d_GCOS_temp_zintanom=d_GCOS_temp_zintwgt-d_GCOS_temp_zint.mean('time');\n",
    "\n",
    "# Remove the seasonal cycle (keep by default)\n",
    "climo=d_GCOS_temp_zintanom.groupby('time.month').mean('time')\n",
    "d_GCOS_temp_zintanom=d_GCOS_temp_zintanom.groupby('time.month')-climo\n",
    "print(f'shape of TSwgtanom: {np.shape(d_GCOS_temp_zintanom)}')\n",
    "\n",
    "# Remove the linear trend\n",
    "time1=np.arange(1,len(time)+1,1)\n",
    "print(np.shape(time1))\n",
    "# calculate the slope a1\n",
    "a1=np.dot(time1-time1.mean(),np.swapaxes(d_GCOS_temp_zintanom.values,0,1))/np.dot(time1-time1.mean(),time1-time1.mean());\n",
    "print(np.shape(a1))\n",
    "a1_broadcast=a1[None,:,:]*time1[:,None,None]\n",
    "print(np.shape(a1_broadcast))\n",
    "d_GCOS_temp_zintanom.values=d_GCOS_temp_zintanom.values-a1_broadcast;\n",
    "\n",
    "# Standardize your data - divide by the standard deviation (keep by default)\n",
    "d_GCOS_temp_zintanomstd=d_GCOS_temp_zintanom/(d_GCOS_temp_zintanom.std('time'));"
   ]
  },
  {
   "cell_type": "code",
   "execution_count": null,
   "id": "1c43df1b",
   "metadata": {},
   "outputs": [],
   "source": [
    "### At the end of this first step you want two matrices ready for EOF analysis\n",
    "### Y_stand = standardized data, dimensioned (time,location)\n",
    "### Y = original data, dimensioned (time,location)\n",
    "### everything below in the code assumes that you have Y_stand, Y defined as above\n",
    "\n",
    "#flatten the lat,lon in the array so that you have an array dimensioned (time,location)\n",
    "a,b,c=np.shape(d_GCOS_temp_zintanom.values)  ## have axis sizes for later (a, b, c)\n",
    "Y_stand=d_GCOS_temp_zintanomstd.values.reshape(a,b*c);\n",
    "Y=d_GCOS_temp_zintanom.values.reshape(a,b*c);  ## just the anomaly - you'll need this later for step 5(physical units)\n",
    "print(a,b,c)\n",
    "print(np.shape(Y_stand))\n",
    "print(np.shape(Y))"
   ]
  },
  {
   "cell_type": "code",
   "execution_count": null,
   "id": "b76e9241",
   "metadata": {},
   "outputs": [],
   "source": [
    "#plot the standardized and original time series for one location -- Look at your data!!\n",
    "y_chosen = np.shape(time)\n",
    "\n",
    "f=plt.figure(figsize=(16,4))\n",
    "gs=GridSpec(1,2)\n",
    "plt.subplot(gs[0,0]);\n",
    "plt.plot(Y_stand[:,y_chosen],label='standardized',color='black');\n",
    "plt.legend();\n",
    "plt.xlabel('Months')\n",
    "plt.subplot(gs[0,1]);\n",
    "plt.plot(d_GCOS_temp_zint.values.reshape(a,b*c)[:,y_chosen],label='original',color='red');\n",
    "# plt.ylim([3.15E11,3.28E11])\n",
    "plt.legend();\n",
    "plt.xlabel('Months')\n"
   ]
  },
  {
   "cell_type": "code",
   "execution_count": null,
   "id": "c0cb86df",
   "metadata": {},
   "outputs": [],
   "source": [
    "# Set NaNs to zero\n",
    "Y_stand = np.nan_to_num(Y_stand)"
   ]
  },
  {
   "cell_type": "markdown",
   "id": "cb684db2",
   "metadata": {},
   "source": [
    "## Caclulate the EOFs (using two different approaches)"
   ]
  },
  {
   "cell_type": "code",
   "execution_count": null,
   "id": "4cac7bee",
   "metadata": {},
   "outputs": [],
   "source": [
    "### Calculate the EOFs -- Using eigenanalysis of the covariance matrix (the np.linalg.eig method)\n",
    "\n",
    "#calculate covariance matrix\n",
    "C = 1./np.size(Y_stand,axis = 0)*np.dot(np.transpose(Y_stand),Y_stand)\n",
    "print(np.shape(Y_stand))\n",
    "print(np.shape(C))\n",
    "\n",
    "#get eigenvalues and eigenvectors - linear algebra module method - will take a couple of minutes\n",
    "start_time = timeit.default_timer()\n",
    "lam, E = LA.eig(C)\n",
    "elapsed = timeit.default_timer() - start_time\n",
    "print('Time elapsed in LA eigenvalue method: ',elapsed, 'seconds')\n",
    "\n",
    "#order by eigenvalues and eigenvectors by eigenvalues\n",
    "ii=np.flipud(np.argsort(lam))\n",
    "lam=lam[ii]\n",
    "E=E[:,ii]"
   ]
  },
  {
   "cell_type": "code",
   "execution_count": null,
   "id": "455865b1",
   "metadata": {},
   "outputs": [],
   "source": [
    "### Calculate the EOFs -- Using Singular Value Decomposition (SVD) (the np.linalg SVD method)\n",
    "start_time = timeit.default_timer()\n",
    "u,s,v=LA.svd(Y_stand) \n",
    "elapsed = timeit.default_timer() - start_time\n",
    "print('Time elapsed in LA SVD method: ',elapsed,' seconds')"
   ]
  },
  {
   "cell_type": "markdown",
   "id": "28ecb6e7",
   "metadata": {},
   "source": [
    "## Eigenvalues"
   ]
  },
  {
   "cell_type": "code",
   "execution_count": null,
   "id": "f9b6331a",
   "metadata": {},
   "outputs": [],
   "source": [
    "### Plot the eigenvalues from both methods including errors bars following North et al. 1982.\n",
    "\n",
    "# convert eigenvalues to percent variance explained\n",
    "pve = 100.*np.abs(lam)/np.sum(np.abs(lam))\n",
    "pve2 = 100.*np.abs(s**2)/np.sum(np.abs(s**2))\n",
    "\n",
    "f=plt.figure()\n",
    "plt.plot(np.arange(1,len(pve)+1),pve,label='eig');\n",
    "plt.plot(np.arange(1,len(pve2)+1),pve2,label='svd')\n",
    "plt.ylim([1,100])\n",
    "plt.xlim([0.5,10])\n",
    "plt.ylabel('Percent Variance Explained')\n",
    "plt.xlabel('Eigenvalue')\n",
    "plt.legend()\n",
    "\n",
    "Nstar = np.size(Y_stand,axis = 0) ## assume all data is independent (not a great assumption, how do we do better?)\n",
    "print(Nstar)\n",
    "###  could for example - find the effective sample size using the average of all data\n",
    "###  Caution: Use the data that went into the EOF analysis for this calculation, not the original data...\n",
    "tseries=np.nanmean(np.nanmean(d_GCOS_temp_zintanomstd,axis=2),axis=1)  ## warning from land nans, ignore it!\n",
    "print(np.shape(tseries))\n",
    "sigma=np.std(tseries)  ## calculate the standard deviation\n",
    "mean=np.mean(tseries)  ## calculate the mean\n",
    "N=len(tseries)         ## calculate the length of the timeseries\n",
    "lag=1\n",
    "t1_m=tseries[0:-1*lag]-mean\n",
    "t2_m=tseries[lag:]-mean\n",
    "alpha=np.correlate(t1_m,t2_m,mode='valid')/(N-lag)/(sigma**2)\n",
    "print('lag1 autocorrelation from np.correlate:',round(alpha[0],3))\n",
    "### Calculate the effective sample size (Nstar) for this data\n",
    "### To estimate the number of independent samples\n",
    "Nstar=np.round((1-alpha)/(1+alpha)*N,0)\n",
    "print('Nstar: ',Nstar)\n",
    "eb = pve*np.sqrt(2./Nstar)  ## North 1982\n",
    "plt.errorbar(np.arange(1,np.size(pve)+1.),pve,yerr = eb/2, xerr = None, linewidth = 1, color = 'black');\n"
   ]
  },
  {
   "cell_type": "markdown",
   "id": "b2b9cf23",
   "metadata": {},
   "source": [
    "## Plot the first EOF"
   ]
  },
  {
   "cell_type": "code",
   "execution_count": null,
   "id": "c5ac9375",
   "metadata": {},
   "outputs": [],
   "source": [
    "### Plot the first EOF pattern and PC timeseries \n",
    "\n",
    "# select an EOF\n",
    "eof_num=1\n",
    "\n",
    "# Find the eigenvector (e1) associated with \"eof_num\" from the eigenanalysis method\n",
    "e1 = E[:,eof_num-1]\n",
    "print(f'shape of e1 {np.shape(e1)}')\n",
    "\n",
    "# Calculate the principal component (z1) associated with \"eof_num\" from the eigenanalysis method\n",
    "z1 = np.dot(Y_stand,e1)\n",
    "## standardize it\n",
    "z1 = (z1-np.mean(z1))/np.std(z1)  \n",
    "print(f'shape of z1: {np.shape(z1)}')\n",
    "\n",
    "# Find the eigenvector (e1_svd) associated with \"eof_num\" from the SVD method\n",
    "##print(np.shape(v),np.shape(s),np.shape(u))  ## uncomment to check the shapes of SVD output\n",
    "e1_svd = (v[eof_num-1,:])\n",
    "print(f'shape of e1_svd {np.shape(e1_svd)}')\n",
    "\n",
    "# Calculate the principal component (z1_svd) associated with \"eof_num\" from the SVD method\n",
    "z1_svd = u[:,eof_num-1]\n",
    "## standardize it\n",
    "z1_svd = (z1_svd-np.mean(z1_svd))/np.std(z1_svd)  \n",
    "print(f'shape of z1_svd: {np.shape(z1_svd)}')"
   ]
  },
  {
   "cell_type": "code",
   "execution_count": null,
   "id": "561b9b59",
   "metadata": {},
   "outputs": [],
   "source": [
    "efirst = e1\n",
    "zfirst = z1\n",
    "efirst_svd = e1_svd\n",
    "zfirst_svd = z1_svd"
   ]
  },
  {
   "cell_type": "code",
   "execution_count": null,
   "id": "93bff28a",
   "metadata": {},
   "outputs": [],
   "source": [
    "### Make a 4-panel plot showing the eigenvector (spatial pattern) and principal component (amplitude)\n",
    "\n",
    "f=plt.figure(figsize=(15,6))\n",
    "gs=GridSpec(2,2)\n",
    "\n",
    "ax=plt.subplot(gs[0,0],projection=ccrs.PlateCarree(central_longitude=180))\n",
    "CS=ax.contourf(lon,lat,e1.reshape(b,c),cmap=plt.cm.RdBu_r,transform=ccrs.PlateCarree())\n",
    "ax.set_extent([lon[0],lon[-1],lat[0],lat[-1]],ccrs.PlateCarree())\n",
    "ax.coastlines()\n",
    "plt.title('EOF 1 (spatial pattern) from eigenanalysis')\n",
    "plt.colorbar(CS)\n",
    "plt.subplot(gs[1,0])\n",
    "plt.plot(time,(z1))\n",
    "plt.title('Principal Component (amplitude) from eigenanalysis')\n",
    "ax=plt.subplot(gs[0,1],projection=ccrs.PlateCarree(central_longitude=180))\n",
    "CS=ax.contourf(lon,lat,np.real(e1_svd).reshape(b,c),cmap=plt.cm.RdBu_r,transform=ccrs.PlateCarree())\n",
    "ax.set_extent([lon[0],lon[-1],lat[0],lat[-1]],ccrs.PlateCarree())\n",
    "ax.coastlines()\n",
    "plt.title('EOF 1 (spatial pattern) from SVD')\n",
    "plt.colorbar(CS)\n",
    "plt.subplot(gs[1,1])\n",
    "plt.plot(time,(z1_svd))\n",
    "plt.title('Principal Component (amplitude) from SVD');"
   ]
  },
  {
   "cell_type": "code",
   "execution_count": null,
   "id": "9c2d6197",
   "metadata": {},
   "outputs": [],
   "source": [
    "### Regress the data (unweighted data if applicable) onto standardize values of the PC \n",
    "### for eof_num above\n",
    "      \n",
    "# calculate d (EOF in physical units) for plotting\n",
    "## d1 is in physical units (in this case degrees)  and denotes the anomaly associated with 1 standard deviation\n",
    "## of z1 (principal component, time variation in this case)\n",
    "d1 = (1./np.size(Y,axis=0))*np.dot(np.transpose(z1),Y) \n",
    "#print(np.shape(d1))\n",
    "d1plot = d1.reshape(b,c)  ### this is the reshaped eigenvector to plot\n",
    "#print(np.shape(d1splot))\n",
    "\n",
    "### Make a plot of the EOF in physical units and associated PC\n",
    "f=plt.figure(figsize=(15,5))\n",
    "gs=GridSpec(1,2)\n",
    "ax=plt.subplot(gs[0,0],projection=ccrs.PlateCarree(central_longitude=180))\n",
    "CS=ax.contourf(lon,lat,d1plot,cmap=plt.cm.RdBu_r,transform=ccrs.PlateCarree())\n",
    "ax.coastlines()\n",
    "cb=plt.colorbar(CS,orientation='horizontal')\n",
    "cb.set_label('Ocean heat content (J/m2) change when z1 increases by 1 $\\sigma$')\n",
    "plt.title('EOF1 in physical units')\n",
    "plt.subplot(gs[0,1])\n",
    "plt.plot(time,z1)\n",
    "ax.set_extent([lon[0],lon[-1],lat[0],lat[-1]],ccrs.PlateCarree())\n",
    "plt.ylabel('amplitude of variation in standardized units');\n",
    "plt.title('PC1 in standardized units');"
   ]
  },
  {
   "cell_type": "markdown",
   "id": "9142aee1",
   "metadata": {},
   "source": [
    "## Plot the second EOF"
   ]
  },
  {
   "cell_type": "code",
   "execution_count": null,
   "id": "0b4ff11e",
   "metadata": {},
   "outputs": [],
   "source": [
    "### Plot the second EOF pattern and PC timeseries \n",
    "\n",
    "# select an EOF\n",
    "eof_num=2\n",
    "\n",
    "# Find the eigenvector (e1) associated with \"eof_num\" from the eigenanalysis method\n",
    "e1 = E[:,eof_num-1]\n",
    "print(f'shape of e1 {np.shape(e1)}')\n",
    "\n",
    "# Calculate the principal component (z1) associated with \"eof_num\" from the eigenanalysis method\n",
    "z1 = np.dot(Y_stand,e1)\n",
    "## standardize it\n",
    "z1 = (z1-np.mean(z1))/np.std(z1)  \n",
    "print(f'shape of z1: {np.shape(z1)}')\n",
    "\n",
    "# Find the eigenvector (e1_svd) associated with \"eof_num\" from the SVD method\n",
    "##print(np.shape(v),np.shape(s),np.shape(u))  ## uncomment to check the shapes of SVD output\n",
    "e1_svd = (v[eof_num-1,:])\n",
    "print(f'shape of e1_svd {np.shape(e1_svd)}')\n",
    "\n",
    "# Calculate the principal component (z1_svd) associated with \"eof_num\" from the SVD method\n",
    "z1_svd = u[:,eof_num-1]\n",
    "## standardize it\n",
    "z1_svd = (z1_svd-np.mean(z1_svd))/np.std(z1_svd)  \n",
    "print(f'shape of z1_svd: {np.shape(z1_svd)}')"
   ]
  },
  {
   "cell_type": "code",
   "execution_count": null,
   "id": "3ab4ab60",
   "metadata": {},
   "outputs": [],
   "source": [
    "esecond = e1\n",
    "zsecond = z1\n",
    "esecond_svd = e1_svd\n",
    "zsecond_svd = z1_svd"
   ]
  },
  {
   "cell_type": "code",
   "execution_count": null,
   "id": "a2bfda26",
   "metadata": {},
   "outputs": [],
   "source": [
    "### Make a 4-panel plot showing the eigenvector (spatial pattern) and principal component (amplitude)\n",
    "\n",
    "f=plt.figure(figsize=(15,6))\n",
    "gs=GridSpec(2,2)\n",
    "\n",
    "ax=plt.subplot(gs[0,0],projection=ccrs.PlateCarree(central_longitude=180))\n",
    "CS=ax.contourf(lon,lat,e1.reshape(b,c),cmap=plt.cm.RdBu_r,transform=ccrs.PlateCarree())\n",
    "ax.set_extent([lon[0],lon[-1],lat[0],lat[-1]],ccrs.PlateCarree())\n",
    "ax.coastlines()\n",
    "plt.title('EOF 2 (spatial pattern) from eigenanalysis')\n",
    "plt.colorbar(CS)\n",
    "plt.subplot(gs[1,0])\n",
    "ax.set_extent([lon[0],lon[-1],lat[0],lat[-1]],ccrs.PlateCarree())\n",
    "plt.plot(time,(z1))\n",
    "plt.title('Principal Component (amplitude) from eigenanalysis')\n",
    "ax=plt.subplot(gs[0,1],projection=ccrs.PlateCarree(central_longitude=180))\n",
    "CS=ax.contourf(lon,lat,np.real(e1_svd).reshape(b,c),cmap=plt.cm.RdBu_r,transform=ccrs.PlateCarree())\n",
    "ax.set_extent([lon[0],lon[-1],lat[0],lat[-1]],ccrs.PlateCarree())\n",
    "ax.coastlines()\n",
    "plt.title('EOF 2 (spatial pattern) from SVD')\n",
    "plt.colorbar(CS)\n",
    "plt.subplot(gs[1,1])\n",
    "ax.set_extent([lon[0],lon[-1],lat[0],lat[-1]],ccrs.PlateCarree())\n",
    "plt.plot(time,(z1_svd))\n",
    "plt.title('Principal Component (amplitude) from SVD');"
   ]
  },
  {
   "cell_type": "code",
   "execution_count": null,
   "id": "835a7e17",
   "metadata": {},
   "outputs": [],
   "source": [
    "### Regress the data (unweighted data if applicable) onto standardize values of the PC \n",
    "### for eof_num above\n",
    "\n",
    "# calculate d (EOF in physical units) for plotting\n",
    "## d1 is in physical units (in this case degrees)  and denotes the anomaly associated with 1 standard deviation\n",
    "## of z1 (principal component, time variation in this case)\n",
    "d1 = (1./np.size(Y,axis=0))*np.dot(np.transpose(z1),Y)\n",
    "#print(np.shape(d1))\n",
    "d1plot = d1.reshape(b,c)  ### this is the reshaped eigenvector to plot\n",
    "\n",
    "### Make a plot of the EOF in physical units and associated PC\n",
    "f=plt.figure(figsize=(15,5))\n",
    "gs=GridSpec(1,2)\n",
    "ax=plt.subplot(gs[0,0],projection=ccrs.PlateCarree(central_longitude=180))\n",
    "CS=ax.contourf(lon,lat,d1plot,cmap=plt.cm.RdBu_r,transform=ccrs.PlateCarree())\n",
    "ax.coastlines()\n",
    "cb=plt.colorbar(CS,orientation='horizontal')\n",
    "cb.set_label('Ocean heat content (J/m2) change when z1 increases by 1 $\\sigma$')\n",
    "plt.title('EOF2 in physical units')\n",
    "plt.subplot(gs[0,1])\n",
    "ax.set_extent([lon[0],lon[-1],lat[0],lat[-1]],ccrs.PlateCarree())\n",
    "plt.plot(time,z1)\n",
    "plt.ylabel('amplitude of variation in standardized units')\n",
    "plt.title('PC2 in standardized units')\n"
   ]
  },
  {
   "cell_type": "code",
   "execution_count": null,
   "id": "7fbae918",
   "metadata": {},
   "outputs": [],
   "source": [
    "efirst = e1\n",
    "zfirst = z1\n",
    "efirst_svd = e1_svd\n",
    "zfirst_svd = z1_svd"
   ]
  },
  {
   "cell_type": "code",
   "execution_count": null,
   "id": "cd0db602",
   "metadata": {},
   "outputs": [],
   "source": [
    "esecond = e1\n",
    "zsecond = z1\n",
    "esecond_svd = e1_svd\n",
    "zsecond_svd = z1_svd"
   ]
  },
  {
   "cell_type": "code",
   "execution_count": null,
   "id": "8051983b",
   "metadata": {},
   "outputs": [],
   "source": [
    "ediff = efirst - esecond\n",
    "zdiff = zfirst - zsecond\n",
    "ediff_svd = efirst_svd - esecond_svd\n",
    "zdiff_svd = zfirst_svd - zsecond_svd"
   ]
  },
  {
   "cell_type": "code",
   "execution_count": null,
   "id": "27206443",
   "metadata": {},
   "outputs": [],
   "source": []
  },
  {
   "cell_type": "code",
   "execution_count": null,
   "id": "cdad7dac",
   "metadata": {},
   "outputs": [],
   "source": []
  },
  {
   "cell_type": "code",
   "execution_count": null,
   "id": "c5160b4d",
   "metadata": {},
   "outputs": [],
   "source": []
  },
  {
   "cell_type": "code",
   "execution_count": null,
   "id": "d3dfd823",
   "metadata": {},
   "outputs": [],
   "source": []
  },
  {
   "cell_type": "code",
   "execution_count": null,
   "id": "ca79ed77",
   "metadata": {},
   "outputs": [],
   "source": []
  },
  {
   "cell_type": "code",
   "execution_count": null,
   "id": "9bd87656",
   "metadata": {},
   "outputs": [],
   "source": []
  }
 ],
 "metadata": {
  "kernelspec": {
   "display_name": "Python (argovis_demos)",
   "language": "python",
   "name": "argovis_demos"
  },
  "language_info": {
   "codemirror_mode": {
    "name": "ipython",
    "version": 3
   },
   "file_extension": ".py",
   "mimetype": "text/x-python",
   "name": "python",
   "nbconvert_exporter": "python",
   "pygments_lexer": "ipython3",
   "version": "3.9.12"
  },
  "toc": {
   "base_numbering": 1,
   "nav_menu": {},
   "number_sections": true,
   "sideBar": true,
   "skip_h1_title": false,
   "title_cell": "Table of Contents",
   "title_sidebar": "Contents",
   "toc_cell": false,
   "toc_position": {},
   "toc_section_display": true,
   "toc_window_display": false
  }
 },
 "nbformat": 4,
 "nbformat_minor": 5
}
